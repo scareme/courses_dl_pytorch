{
 "cells": [
  {
   "cell_type": "markdown",
   "metadata": {},
   "source": [
    "# Character-Level LSTM in PyTorch\n",
    "\n",
    "In this notebook, I'll construct a character-level LSTM with PyTorch. The network will train character by character on some text, then generate new text character by character. As an example, I will train on Anna Karenina. **This model will be able to generate new text based on the text from the book!**\n",
    "\n",
    "This network is based off of Andrej Karpathy's [post on RNNs](http://karpathy.github.io/2015/05/21/rnn-effectiveness/) and [implementation in Torch](https://github.com/karpathy/char-rnn). Below is the general architecture of the character-wise RNN.\n",
    "\n",
    "<img src=\"assets/charseq.jpeg\" width=\"500\">"
   ]
  },
  {
   "cell_type": "markdown",
   "metadata": {},
   "source": [
    "First let's load in our required resources for data loading and model creation."
   ]
  },
  {
   "cell_type": "code",
   "execution_count": 1,
   "metadata": {},
   "outputs": [],
   "source": [
    "import numpy as np\n",
    "import torch\n",
    "from torch import nn\n",
    "import torch.nn.functional as F"
   ]
  },
  {
   "cell_type": "markdown",
   "metadata": {},
   "source": [
    "## Load in Data\n",
    "\n",
    "Then, we'll load the Anna Karenina text file and convert it into integers for our network to use. "
   ]
  },
  {
   "cell_type": "code",
   "execution_count": 2,
   "metadata": {},
   "outputs": [],
   "source": [
    "# open text file and read in data as `text`\n",
    "with open('data/anna_rus.txt', 'r') as f:\n",
    "    text = f.read()"
   ]
  },
  {
   "cell_type": "markdown",
   "metadata": {},
   "source": [
    "Let's check out the first 100 characters, make sure everything is peachy. According to the [American Book Review](http://americanbookreview.org/100bestlines.asp), this is the 6th best first line of a book ever."
   ]
  },
  {
   "cell_type": "code",
   "execution_count": 3,
   "metadata": {},
   "outputs": [
    {
     "data": {
      "text/plain": [
       "'Лев Николаевич Толстой\\n\\nАнна Каренина\\n\\nМне отмщение, и аз воздам\\n\\nЧАСТЬ ПЕРВАЯ\\n\\nI\\n\\n   Все счастливые'"
      ]
     },
     "execution_count": 3,
     "metadata": {},
     "output_type": "execute_result"
    }
   ],
   "source": [
    "text[:100]"
   ]
  },
  {
   "cell_type": "markdown",
   "metadata": {},
   "source": [
    "### Tokenization\n",
    "\n",
    "In the cells, below, I'm creating a couple **dictionaries** to convert the characters to and from integers. Encoding the characters as integers makes it easier to use as input in the network."
   ]
  },
  {
   "cell_type": "code",
   "execution_count": 4,
   "metadata": {},
   "outputs": [],
   "source": [
    "# encode the text and map each character to an integer and vice versa\n",
    "\n",
    "# we create two dictionaries:\n",
    "# 1. int2char, which maps integers to characters\n",
    "# 2. char2int, which maps characters to unique integers\n",
    "chars = tuple(set(text))\n",
    "int2char = dict(enumerate(chars))\n",
    "char2int = {ch: ii for ii, ch in int2char.items()}\n",
    "\n",
    "# encode the text\n",
    "encoded = np.array([char2int[ch] for ch in text])"
   ]
  },
  {
   "cell_type": "markdown",
   "metadata": {},
   "source": [
    "And we can see those same characters from above, encoded as integers."
   ]
  },
  {
   "cell_type": "code",
   "execution_count": 5,
   "metadata": {},
   "outputs": [
    {
     "data": {
      "text/plain": [
       "array([122,  16,  87, 110,  98,  56,  89,  54, 105, 109,  16,  87,  56,\n",
       "       120, 110,  73,  54, 105,  97,  38,  54,  19,  28,  28, 103,  37,\n",
       "        37, 109, 110,  45, 109,  43,  16,  37,  56,  37, 109,  28,  28,\n",
       "        81,  37,  16, 110,  54,  38,  82,  31,  16,  37,  56,  16,  17,\n",
       "       110,  56, 110, 109, 128, 110,  87,  54, 128,  57, 109,  82,  28,\n",
       "        28,  39, 103,  18,  73,  92, 110,  77, 100,  90,  52, 103, 104,\n",
       "        28,  28,  69,  28,  28, 110, 110, 110,  52,  97,  16, 110,  97,\n",
       "       120, 109,  97,  38, 105,  56,  87,  26,  16])"
      ]
     },
     "execution_count": 5,
     "metadata": {},
     "output_type": "execute_result"
    }
   ],
   "source": [
    "encoded[:100]"
   ]
  },
  {
   "cell_type": "code",
   "execution_count": 6,
   "metadata": {},
   "outputs": [
    {
     "data": {
      "text/plain": [
       "('Л', 'е', 'в')"
      ]
     },
     "execution_count": 6,
     "metadata": {},
     "output_type": "execute_result"
    }
   ],
   "source": [
    "int2char[encoded[0]], int2char[encoded[1]], int2char[encoded[2]]"
   ]
  },
  {
   "cell_type": "markdown",
   "metadata": {},
   "source": [
    "## Pre-processing the data\n",
    "\n",
    "As you can see in our char-RNN image above, our LSTM expects an input that is **one-hot encoded** meaning that each character is converted into an integer (via our created dictionary) and *then* converted into a column vector where only it's corresponding integer index will have the value of 1 and the rest of the vector will be filled with 0's. Since we're one-hot encoding the data, let's make a function to do that!\n"
   ]
  },
  {
   "cell_type": "code",
   "execution_count": 7,
   "metadata": {},
   "outputs": [],
   "source": [
    "def one_hot_encode(arr, n_labels):\n",
    "    \n",
    "    # Initialize the the encoded array\n",
    "    one_hot = np.zeros((np.multiply(*arr.shape), n_labels), dtype=np.float32)\n",
    "    \n",
    "    # Fill the appropriate elements with ones\n",
    "    one_hot[np.arange(one_hot.shape[0]), arr.flatten()] = 1.\n",
    "    \n",
    "    # Finally reshape it to get back to the original array\n",
    "    one_hot = one_hot.reshape((*arr.shape, n_labels))\n",
    "    \n",
    "    return one_hot"
   ]
  },
  {
   "cell_type": "code",
   "execution_count": 8,
   "metadata": {},
   "outputs": [
    {
     "name": "stdout",
     "output_type": "stream",
     "text": [
      "[[[0. 0. 0. 1. 0. 0. 0. 0.]\n",
      "  [0. 0. 0. 0. 0. 1. 0. 0.]\n",
      "  [0. 1. 0. 0. 0. 0. 0. 0.]]]\n"
     ]
    }
   ],
   "source": [
    "# check that the function works as expected\n",
    "test_seq = np.array([[3, 5, 1]])\n",
    "one_hot = one_hot_encode(test_seq, 8)\n",
    "\n",
    "print(one_hot)"
   ]
  },
  {
   "cell_type": "markdown",
   "metadata": {},
   "source": [
    "## Making training mini-batches\n",
    "\n",
    "\n",
    "To train on this data, we also want to create mini-batches for training. Remember that we want our batches to be multiple sequences of some desired number of sequence steps. Considering a simple example, our batches would look like this:\n",
    "\n",
    "<img src=\"assets/sequence_batching@1x.png\" width=500px>\n",
    "\n",
    "\n",
    "<br>\n",
    "\n",
    "In this example, we'll take the encoded characters (passed in as the `arr` parameter) and split them into multiple sequences, given by `batch_size`. Each of our sequences will be `seq_length` long.\n",
    "\n",
    "### Creating Batches\n",
    "\n",
    "**1. The first thing we need to do is discard some of the text so we only have completely full mini-batches. **\n",
    "\n",
    "Each batch contains $N \\times M$ characters, where $N$ is the batch size (the number of sequences in a batch) and $M$ is the seq_length or number of time steps in a sequence. Then, to get the total number of batches, $K$, that we can make from the array `arr`, you divide the length of `arr` by the number of characters per batch. Once you know the number of batches, you can get the total number of characters to keep from `arr`, $N * M * K$.\n",
    "\n",
    "**2. After that, we need to split `arr` into $N$ batches. ** \n",
    "\n",
    "You can do this using `arr.reshape(size)` where `size` is a tuple containing the dimensions sizes of the reshaped array. We know we want $N$ sequences in a batch, so let's make that the size of the first dimension. For the second dimension, you can use `-1` as a placeholder in the size, it'll fill up the array with the appropriate data for you. After this, you should have an array that is $N \\times (M * K)$.\n",
    "\n",
    "**3. Now that we have this array, we can iterate through it to get our mini-batches. **\n",
    "\n",
    "The idea is each batch is a $N \\times M$ window on the $N \\times (M * K)$ array. For each subsequent batch, the window moves over by `seq_length`. We also want to create both the input and target arrays. Remember that the targets are just the inputs shifted over by one character. The way I like to do this window is use `range` to take steps of size `n_steps` from $0$ to `arr.shape[1]`, the total number of tokens in each sequence. That way, the integers you get from `range` always point to the start of a batch, and each window is `seq_length` wide.\n",
    "\n",
    "> **TODO:** Write the code for creating batches in the function below. The exercises in this notebook _will not be easy_. I've provided a notebook with solutions alongside this notebook. If you get stuck, checkout the solutions. The most important thing is that you don't copy and paste the code into here, **type out the solution code yourself.**"
   ]
  },
  {
   "cell_type": "code",
   "execution_count": 9,
   "metadata": {},
   "outputs": [],
   "source": [
    "def get_batches(arr, batch_size, seq_length):\n",
    "    '''Create a generator that returns batches of size\n",
    "       batch_size x seq_length from arr.\n",
    "       \n",
    "       Arguments\n",
    "       ---------\n",
    "       arr: Array you want to make batches from\n",
    "       batch_size: Batch size, the number of sequences per batch\n",
    "       seq_length: Number of encoded chars in a sequence\n",
    "    '''\n",
    "    \n",
    "    ## TODO: Get the number of batches we can make\n",
    "    n_batches = len(arr)//(batch_size * seq_length)\n",
    "    \n",
    "    ## TODO: Keep only enough characters to make full batches\n",
    "    arr = arr[:n_batches*batch_size*seq_length]\n",
    "    \n",
    "    ## TODO: Reshape into batch_size rows\n",
    "    arr = arr.reshape((batch_size, -1))\n",
    "    \n",
    "    ## TODO: Iterate over the batches using a window of size seq_length\n",
    "    for n in range(0, arr.shape[1], seq_length):\n",
    "        # The features\n",
    "        x = arr[:, n:n+seq_length]\n",
    "        # The targets, shifted by one\n",
    "        y = np.zeros_like(x)\n",
    "        try:\n",
    "            y[:, :-1], y[:, -1] = x[:, 1:], arr[:, n+seq_length]\n",
    "        except IndexError:\n",
    "            y[:, :-1], y[:, -1] = x[:, 1:], arr[:, 0]\n",
    "        yield x, y"
   ]
  },
  {
   "cell_type": "markdown",
   "metadata": {},
   "source": [
    "### Test Your Implementation\n",
    "\n",
    "Now I'll make some data sets and we can check out what's going on as we batch data. Here, as an example, I'm going to use a batch size of 8 and 50 sequence steps."
   ]
  },
  {
   "cell_type": "code",
   "execution_count": 10,
   "metadata": {},
   "outputs": [],
   "source": [
    "batches = get_batches(encoded, 8, 50)\n",
    "x, y = next(batches)"
   ]
  },
  {
   "cell_type": "code",
   "execution_count": 11,
   "metadata": {},
   "outputs": [
    {
     "name": "stdout",
     "output_type": "stream",
     "text": [
      "x\n",
      " [[122  16  87 110  98  56  89  54 105 109]\n",
      " [ 54  82  17 110  56 110  87  75  16  43]\n",
      " [ 72 110 130 130 110  97  89 109 128 109]\n",
      " [ 38  54  82  10 110  54  37 109 110  11]\n",
      " [ 16  38  17 110  37  16 110  38  16  75]\n",
      " [ 89  56 110 128 109  57  10 127 109  38]\n",
      " [109 110  16  16 110  87  11 105  56 128]\n",
      " [ 87  16  37  37  54  17 110 120  38  54]]\n",
      "\n",
      "y\n",
      " [[ 16  87 110  98  56  89  54 105 109  16]\n",
      " [ 82  17 110  56 110  87  75  16  43  16]\n",
      " [110 130 130 110  97  89 109 128 109 105]\n",
      " [ 54  82  10 110  54  37 109 110  11  26]\n",
      " [ 38  17 110  37  16 110  38  16  75  16]\n",
      " [ 56 110 128 109  57  10 127 109  38 110]\n",
      " [110  16  16 110  87  11 105  56 128  56]\n",
      " [ 16  37  37  54  17 110 120  38  54 110]]\n"
     ]
    }
   ],
   "source": [
    "# printing out the first 10 items in a sequence\n",
    "print('x\\n', x[:10, :10])\n",
    "print('\\ny\\n', y[:10, :10])"
   ]
  },
  {
   "cell_type": "markdown",
   "metadata": {},
   "source": [
    "If you implemented `get_batches` correctly, the above output should look something like \n",
    "```\n",
    "x\n",
    " [[25  8 60 11 45 27 28 73  1  2]\n",
    " [17  7 20 73 45  8 60 45 73 60]\n",
    " [27 20 80 73  7 28 73 60 73 65]\n",
    " [17 73 45  8 27 73 66  8 46 27]\n",
    " [73 17 60 12 73  8 27 28 73 45]\n",
    " [66 64 17 17 46  7 20 73 60 20]\n",
    " [73 76 20 20 60 73  8 60 80 73]\n",
    " [47 35 43  7 20 17 24 50 37 73]]\n",
    "\n",
    "y\n",
    " [[ 8 60 11 45 27 28 73  1  2  2]\n",
    " [ 7 20 73 45  8 60 45 73 60 45]\n",
    " [20 80 73  7 28 73 60 73 65  7]\n",
    " [73 45  8 27 73 66  8 46 27 65]\n",
    " [17 60 12 73  8 27 28 73 45 27]\n",
    " [64 17 17 46  7 20 73 60 20 80]\n",
    " [76 20 20 60 73  8 60 80 73 17]\n",
    " [35 43  7 20 17 24 50 37 73 36]]\n",
    " ```\n",
    " although the exact numbers may be different. Check to make sure the data is shifted over one step for `y`."
   ]
  },
  {
   "cell_type": "markdown",
   "metadata": {},
   "source": [
    "---\n",
    "## Defining the network with PyTorch\n",
    "\n",
    "Below is where you'll define the network.\n",
    "\n",
    "<img src=\"assets/charRNN.png\" width=500px>\n",
    "\n",
    "Next, you'll use PyTorch to define the architecture of the network. We start by defining the layers and operations we want. Then, define a method for the forward pass. You've also been given a method for predicting characters."
   ]
  },
  {
   "cell_type": "markdown",
   "metadata": {},
   "source": [
    "### Model Structure\n",
    "\n",
    "In `__init__` the suggested structure is as follows:\n",
    "* Create and store the necessary dictionaries (this has been done for you)\n",
    "* Define an LSTM layer that takes as params: an input size (the number of characters), a hidden layer size `n_hidden`, a number of layers `n_layers`, a dropout probability `drop_prob`, and a batch_first boolean (True, since we are batching)\n",
    "* Define a dropout layer with `dropout_prob`\n",
    "* Define a fully-connected layer with params: input size `n_hidden` and output size (the number of characters)\n",
    "* Finally, initialize the weights (again, this has been given)\n",
    "\n",
    "Note that some parameters have been named and given in the `__init__` function, and we use them and store them by doing something like `self.drop_prob = drop_prob`."
   ]
  },
  {
   "cell_type": "markdown",
   "metadata": {},
   "source": [
    "---\n",
    "### LSTM Inputs/Outputs\n",
    "\n",
    "You can create a basic [LSTM layer](https://pytorch.org/docs/stable/nn.html#lstm) as follows\n",
    "\n",
    "```python\n",
    "self.lstm = nn.LSTM(input_size, n_hidden, n_layers, \n",
    "                            dropout=drop_prob, batch_first=True)\n",
    "```\n",
    "\n",
    "where `input_size` is the number of characters this cell expects to see as sequential input, and `n_hidden` is the number of units in the hidden layers in the cell. And we can add dropout by adding a dropout parameter with a specified probability; this will automatically add dropout to the inputs or outputs. Finally, in the `forward` function, we can stack up the LSTM cells into layers using `.view`. With this, you pass in a list of cells and it will send the output of one cell into the next cell.\n",
    "\n",
    "We also need to create an initial hidden state of all zeros. This is done like so\n",
    "\n",
    "```python\n",
    "self.init_hidden()\n",
    "```"
   ]
  },
  {
   "cell_type": "code",
   "execution_count": 12,
   "metadata": {},
   "outputs": [
    {
     "name": "stdout",
     "output_type": "stream",
     "text": [
      "Training on GPU!\n"
     ]
    }
   ],
   "source": [
    "# check if GPU is available\n",
    "train_on_gpu = torch.cuda.is_available()\n",
    "if(train_on_gpu):\n",
    "    print('Training on GPU!')\n",
    "else: \n",
    "    print('No GPU available, training on CPU; consider making n_epochs very small.')"
   ]
  },
  {
   "cell_type": "code",
   "execution_count": 37,
   "metadata": {},
   "outputs": [],
   "source": [
    "class CharRNN(nn.Module):\n",
    "    \n",
    "    def __init__(self, tokens, n_hidden=256, n_layers=2,\n",
    "                               drop_prob=0.5, lr=0.001):\n",
    "        super().__init__()\n",
    "        self.drop_prob = drop_prob\n",
    "        self.n_layers = n_layers\n",
    "        self.n_hidden = n_hidden\n",
    "        self.lr = lr\n",
    "        \n",
    "        # creating character dictionaries\n",
    "        self.chars = tokens\n",
    "        self.int2char = dict(enumerate(self.chars))\n",
    "        self.char2int = {ch: ii for ii, ch in self.int2char.items()}\n",
    "        \n",
    "        ## TODO: define the LSTM\n",
    "        self.lstm = nn.LSTM(len(self.chars), n_hidden, n_layers, \n",
    "                            dropout=drop_prob, batch_first=True)\n",
    "        \n",
    "        ## TODO: define a dropout layer\n",
    "        self.dropout = nn.Dropout(drop_prob)\n",
    "        \n",
    "        ## TODO: define the final, fully-connected output layer\n",
    "        self.fc = nn.Linear(n_hidden, len(self.chars))\n",
    "      \n",
    "    \n",
    "    def forward(self, x, hidden):\n",
    "        ''' Forward pass through the network. \n",
    "            These inputs are x, and the hidden/cell state `hidden`. '''\n",
    "                \n",
    "        ## TODO: Get the outputs and the new hidden state from the lstm\n",
    "        r_output, hidden = self.lstm(x, hidden)\n",
    "        \n",
    "        ## TODO: pass through a dropout layer\n",
    "        out = self.dropout(r_output)\n",
    "        \n",
    "        # Stack up LSTM outputs using view\n",
    "        # you may need to use contiguous to reshape the output\n",
    "        out = out.contiguous().view(-1, self.n_hidden)\n",
    "        \n",
    "        ## TODO: put x through the fully-connected layer\n",
    "        out = self.fc(out)\n",
    "        \n",
    "        # return the final output and the hidden state\n",
    "        return out, hidden\n",
    "    \n",
    "    \n",
    "    def init_hidden(self, batch_size):\n",
    "        ''' Initializes hidden state '''\n",
    "        # Create two new tensors with sizes n_layers x batch_size x n_hidden,\n",
    "        # initialized to zero, for hidden state and cell state of LSTM\n",
    "        weight = next(self.parameters()).data\n",
    "        \n",
    "        if (train_on_gpu):\n",
    "            hidden = (weight.new(self.n_layers, batch_size, self.n_hidden).zero_().cuda(),\n",
    "                  weight.new(self.n_layers, batch_size, self.n_hidden).zero_().cuda())\n",
    "        else:\n",
    "            hidden = (weight.new(self.n_layers, batch_size, self.n_hidden).zero_(),\n",
    "                      weight.new(self.n_layers, batch_size, self.n_hidden).zero_())\n",
    "        \n",
    "        return hidden\n",
    "        "
   ]
  },
  {
   "cell_type": "markdown",
   "metadata": {},
   "source": [
    "## Time to train\n",
    "\n",
    "The train function gives us the ability to set the number of epochs, the learning rate, and other parameters.\n",
    "\n",
    "Below we're using an Adam optimizer and cross entropy loss since we are looking at character class scores as output. We calculate the loss and perform backpropagation, as usual!\n",
    "\n",
    "A couple of details about training: \n",
    ">* Within the batch loop, we detach the hidden state from its history; this time setting it equal to a new *tuple* variable because an LSTM has a hidden state that is a tuple of the hidden and cell states.\n",
    "* We use [`clip_grad_norm_`](https://pytorch.org/docs/stable/_modules/torch/nn/utils/clip_grad.html) to help prevent exploding gradients."
   ]
  },
  {
   "cell_type": "code",
   "execution_count": 14,
   "metadata": {},
   "outputs": [],
   "source": [
    "def train(net, data, epochs=10, batch_size=10, seq_length=50, lr=0.001, clip=5, val_frac=0.1, print_every=10):\n",
    "    ''' Training a network \n",
    "    \n",
    "        Arguments\n",
    "        ---------\n",
    "        \n",
    "        net: CharRNN network\n",
    "        data: text data to train the network\n",
    "        epochs: Number of epochs to train\n",
    "        batch_size: Number of mini-sequences per mini-batch, aka batch size\n",
    "        seq_length: Number of character steps per mini-batch\n",
    "        lr: learning rate\n",
    "        clip: gradient clipping\n",
    "        val_frac: Fraction of data to hold out for validation\n",
    "        print_every: Number of steps for printing training and validation loss\n",
    "    \n",
    "    '''\n",
    "    net.train()\n",
    "    \n",
    "    opt = torch.optim.Adam(net.parameters(), lr=lr)\n",
    "    criterion = nn.CrossEntropyLoss()\n",
    "    \n",
    "    # create training and validation data\n",
    "    val_idx = int(len(data)*(1-val_frac))\n",
    "    data, val_data = data[:val_idx], data[val_idx:]\n",
    "    \n",
    "    if(train_on_gpu):\n",
    "        net.cuda()\n",
    "    \n",
    "    counter = 0\n",
    "    n_chars = len(net.chars)\n",
    "    for e in range(epochs):\n",
    "        # initialize hidden state\n",
    "        h = net.init_hidden(batch_size)\n",
    "        \n",
    "        for x, y in get_batches(data, batch_size, seq_length):\n",
    "            counter += 1\n",
    "            \n",
    "            # One-hot encode our data and make them Torch tensors\n",
    "            x = one_hot_encode(x, n_chars)\n",
    "            inputs, targets = torch.from_numpy(x), torch.from_numpy(y)\n",
    "            \n",
    "            if(train_on_gpu):\n",
    "                inputs, targets = inputs.cuda(), targets.cuda()\n",
    "\n",
    "            # Creating new variables for the hidden state, otherwise\n",
    "            # we'd backprop through the entire training history\n",
    "            h = tuple([each.data for each in h])\n",
    "\n",
    "            # zero accumulated gradients\n",
    "            net.zero_grad()\n",
    "            \n",
    "            # get the output from the model\n",
    "            output, h = net(inputs, h)\n",
    "            \n",
    "            # calculate the loss and perform backprop\n",
    "            loss = criterion(output, targets.view(batch_size*seq_length).long())\n",
    "            loss.backward()\n",
    "            # `clip_grad_norm` helps prevent the exploding gradient problem in RNNs / LSTMs.\n",
    "            nn.utils.clip_grad_norm_(net.parameters(), clip)\n",
    "            opt.step()\n",
    "            \n",
    "            # loss stats\n",
    "            if counter % print_every == 0:\n",
    "                # Get validation loss\n",
    "                val_h = net.init_hidden(batch_size)\n",
    "                val_losses = []\n",
    "                net.eval()\n",
    "                for x, y in get_batches(val_data, batch_size, seq_length):\n",
    "                    # One-hot encode our data and make them Torch tensors\n",
    "                    x = one_hot_encode(x, n_chars)\n",
    "                    x, y = torch.from_numpy(x), torch.from_numpy(y)\n",
    "                    \n",
    "                    # Creating new variables for the hidden state, otherwise\n",
    "                    # we'd backprop through the entire training history\n",
    "                    val_h = tuple([each.data for each in val_h])\n",
    "                    \n",
    "                    inputs, targets = x, y\n",
    "                    if(train_on_gpu):\n",
    "                        inputs, targets = inputs.cuda(), targets.cuda()\n",
    "\n",
    "                    output, val_h = net(inputs, val_h)\n",
    "                    val_loss = criterion(output, targets.view(batch_size*seq_length).long())\n",
    "                \n",
    "                    val_losses.append(val_loss.item())\n",
    "                \n",
    "                net.train() # reset to train mode after iterationg through validation data\n",
    "                \n",
    "                print(\"Epoch: {}/{}...\".format(e+1, epochs),\n",
    "                      \"Step: {}...\".format(counter),\n",
    "                      \"Loss: {:.4f}...\".format(loss.item()),\n",
    "                      \"Val Loss: {:.4f}\".format(np.mean(val_losses)))"
   ]
  },
  {
   "cell_type": "markdown",
   "metadata": {},
   "source": [
    "## Instantiating the model\n",
    "\n",
    "Now we can actually train the network. First we'll create the network itself, with some given hyperparameters. Then, define the mini-batches sizes, and start training!"
   ]
  },
  {
   "cell_type": "code",
   "execution_count": 38,
   "metadata": {},
   "outputs": [
    {
     "name": "stdout",
     "output_type": "stream",
     "text": [
      "CharRNN(\n",
      "  (lstm): LSTM(135, 512, num_layers=2, batch_first=True, dropout=0.5)\n",
      "  (dropout): Dropout(p=0.5)\n",
      "  (fc): Linear(in_features=512, out_features=135, bias=True)\n",
      ")\n"
     ]
    }
   ],
   "source": [
    "## TODO: set you model hyperparameters\n",
    "# define and print the net\n",
    "n_hidden = 512\n",
    "n_layers = 2\n",
    "\n",
    "net = CharRNN(chars, n_hidden, n_layers)\n",
    "print(net)"
   ]
  },
  {
   "cell_type": "code",
   "execution_count": 28,
   "metadata": {},
   "outputs": [
    {
     "name": "stdout",
     "output_type": "stream",
     "text": [
      "x.shape torch.Size([8, 50, 135])\n",
      "o.shape torch.Size([8, 50, 512])\n",
      "hid shape 2 torch.Size([2, 8, 512])\n"
     ]
    }
   ],
   "source": [
    "for x, y in get_batches(encoded, 8, 50):\n",
    "    x = one_hot_encode(x, len(net.chars))\n",
    "    x = torch.from_numpy(x)\n",
    "    break\n",
    "print('x.shape', x.shape)\n",
    "h = net.init_hidden(8)\n",
    "h = tuple([each.data for each in h])\n",
    "o, h_ = net(x, h)\n",
    "print('o.shape', o.shape)\n",
    "print('hid shape', len(h_), h_[0].shape)"
   ]
  },
  {
   "cell_type": "code",
   "execution_count": 36,
   "metadata": {},
   "outputs": [
    {
     "name": "stdout",
     "output_type": "stream",
     "text": [
      "x.shape torch.Size([8, 50, 135])\n",
      "o.shape torch.Size([400, 512])\n",
      "hid shape 2 torch.Size([2, 8, 512])\n"
     ]
    }
   ],
   "source": [
    "for x, y in get_batches(encoded, 8, 50):\n",
    "    x = one_hot_encode(x, len(net.chars))\n",
    "    x = torch.from_numpy(x)\n",
    "    break\n",
    "print('x.shape', x.shape)\n",
    "h = net.init_hidden(8)\n",
    "h = tuple([each.data for each in h])\n",
    "o, h_ = net(x, h)\n",
    "print('o.shape', o.shape)\n",
    "print('hid shape', len(h_), h_[0].shape)"
   ]
  },
  {
   "cell_type": "code",
   "execution_count": 39,
   "metadata": {},
   "outputs": [
    {
     "name": "stdout",
     "output_type": "stream",
     "text": [
      "x.shape torch.Size([8, 50, 135])\n",
      "o.shape torch.Size([400, 135])\n",
      "hid shape 2 torch.Size([2, 8, 512])\n"
     ]
    }
   ],
   "source": [
    "for x, y in get_batches(encoded, 8, 50):\n",
    "    x = one_hot_encode(x, len(net.chars))\n",
    "    x = torch.from_numpy(x)\n",
    "    break\n",
    "print('x.shape', x.shape)\n",
    "h = net.init_hidden(8)\n",
    "h = tuple([each.data for each in h])\n",
    "o, h_ = net(x, h)\n",
    "print('o.shape', o.shape)\n",
    "print('hid shape', len(h_), h_[0].shape)"
   ]
  },
  {
   "cell_type": "markdown",
   "metadata": {},
   "source": [
    "### Set your training hyperparameters!"
   ]
  },
  {
   "cell_type": "code",
   "execution_count": 16,
   "metadata": {
    "scrolled": true
   },
   "outputs": [
    {
     "name": "stdout",
     "output_type": "stream",
     "text": [
      "Epoch: 1/20... Step: 10... Loss: 3.3580... Val Loss: 3.3132\n",
      "Epoch: 1/20... Step: 20... Loss: 3.2962... Val Loss: 3.2539\n",
      "Epoch: 1/20... Step: 30... Loss: 3.2530... Val Loss: 3.2397\n",
      "Epoch: 1/20... Step: 40... Loss: 3.2834... Val Loss: 3.2394\n",
      "Epoch: 1/20... Step: 50... Loss: 3.2460... Val Loss: 3.2356\n",
      "Epoch: 1/20... Step: 60... Loss: 3.2761... Val Loss: 3.2331\n",
      "Epoch: 1/20... Step: 70... Loss: 3.2358... Val Loss: 3.2291\n",
      "Epoch: 1/20... Step: 80... Loss: 3.2371... Val Loss: 3.2192\n",
      "Epoch: 1/20... Step: 90... Loss: 3.2225... Val Loss: 3.1998\n",
      "Epoch: 1/20... Step: 100... Loss: 3.1963... Val Loss: 3.1854\n",
      "Epoch: 1/20... Step: 110... Loss: 3.1569... Val Loss: 3.1737\n",
      "Epoch: 1/20... Step: 120... Loss: 3.1119... Val Loss: 3.1077\n",
      "Epoch: 2/20... Step: 130... Loss: 3.0261... Val Loss: 3.0084\n",
      "Epoch: 2/20... Step: 140... Loss: 2.9618... Val Loss: 2.9533\n",
      "Epoch: 2/20... Step: 150... Loss: 2.8486... Val Loss: 2.8348\n",
      "Epoch: 2/20... Step: 160... Loss: 2.7729... Val Loss: 2.7448\n",
      "Epoch: 2/20... Step: 170... Loss: 2.7182... Val Loss: 2.6787\n",
      "Epoch: 2/20... Step: 180... Loss: 2.6861... Val Loss: 2.6480\n",
      "Epoch: 2/20... Step: 190... Loss: 2.6608... Val Loss: 2.6026\n",
      "Epoch: 2/20... Step: 200... Loss: 2.5973... Val Loss: 2.5679\n",
      "Epoch: 2/20... Step: 210... Loss: 2.5943... Val Loss: 2.5560\n",
      "Epoch: 2/20... Step: 220... Loss: 2.5397... Val Loss: 2.5197\n",
      "Epoch: 2/20... Step: 230... Loss: 2.5416... Val Loss: 2.4868\n",
      "Epoch: 2/20... Step: 240... Loss: 2.5129... Val Loss: 2.4512\n",
      "Epoch: 3/20... Step: 250... Loss: 2.4809... Val Loss: 2.4323\n",
      "Epoch: 3/20... Step: 260... Loss: 2.4483... Val Loss: 2.4033\n",
      "Epoch: 3/20... Step: 270... Loss: 2.4415... Val Loss: 2.3817\n",
      "Epoch: 3/20... Step: 280... Loss: 2.4259... Val Loss: 2.3593\n",
      "Epoch: 3/20... Step: 290... Loss: 2.3998... Val Loss: 2.3308\n",
      "Epoch: 3/20... Step: 300... Loss: 2.3586... Val Loss: 2.3083\n",
      "Epoch: 3/20... Step: 310... Loss: 2.3870... Val Loss: 2.2910\n",
      "Epoch: 3/20... Step: 320... Loss: 2.3577... Val Loss: 2.2701\n",
      "Epoch: 3/20... Step: 330... Loss: 2.2910... Val Loss: 2.2481\n",
      "Epoch: 3/20... Step: 340... Loss: 2.2760... Val Loss: 2.2349\n",
      "Epoch: 3/20... Step: 350... Loss: 2.2658... Val Loss: 2.2149\n",
      "Epoch: 3/20... Step: 360... Loss: 2.2459... Val Loss: 2.1998\n",
      "Epoch: 4/20... Step: 370... Loss: 2.2255... Val Loss: 2.1773\n",
      "Epoch: 4/20... Step: 380... Loss: 2.2315... Val Loss: 2.1630\n",
      "Epoch: 4/20... Step: 390... Loss: 2.2295... Val Loss: 2.1485\n",
      "Epoch: 4/20... Step: 400... Loss: 2.1831... Val Loss: 2.1317\n",
      "Epoch: 4/20... Step: 410... Loss: 2.1832... Val Loss: 2.1171\n",
      "Epoch: 4/20... Step: 420... Loss: 2.1301... Val Loss: 2.0988\n",
      "Epoch: 4/20... Step: 430... Loss: 2.1763... Val Loss: 2.0843\n",
      "Epoch: 4/20... Step: 440... Loss: 2.1350... Val Loss: 2.0728\n",
      "Epoch: 4/20... Step: 450... Loss: 2.1223... Val Loss: 2.0615\n",
      "Epoch: 4/20... Step: 460... Loss: 2.1478... Val Loss: 2.0429\n",
      "Epoch: 4/20... Step: 470... Loss: 2.1234... Val Loss: 2.0299\n",
      "Epoch: 4/20... Step: 480... Loss: 2.0959... Val Loss: 2.0159\n",
      "Epoch: 5/20... Step: 490... Loss: 2.0644... Val Loss: 2.0042\n",
      "Epoch: 5/20... Step: 500... Loss: 2.0848... Val Loss: 1.9954\n",
      "Epoch: 5/20... Step: 510... Loss: 2.0624... Val Loss: 1.9832\n",
      "Epoch: 5/20... Step: 520... Loss: 2.0493... Val Loss: 1.9683\n",
      "Epoch: 5/20... Step: 530... Loss: 2.0388... Val Loss: 1.9649\n",
      "Epoch: 5/20... Step: 540... Loss: 2.0231... Val Loss: 1.9501\n",
      "Epoch: 5/20... Step: 550... Loss: 2.0337... Val Loss: 1.9389\n",
      "Epoch: 5/20... Step: 560... Loss: 2.0239... Val Loss: 1.9308\n",
      "Epoch: 5/20... Step: 570... Loss: 2.0122... Val Loss: 1.9212\n",
      "Epoch: 5/20... Step: 580... Loss: 1.9886... Val Loss: 1.9135\n",
      "Epoch: 5/20... Step: 590... Loss: 1.9590... Val Loss: 1.9019\n",
      "Epoch: 5/20... Step: 600... Loss: 1.9748... Val Loss: 1.8917\n",
      "Epoch: 5/20... Step: 610... Loss: 1.9687... Val Loss: 1.8811\n",
      "Epoch: 6/20... Step: 620... Loss: 1.9770... Val Loss: 1.8755\n",
      "Epoch: 6/20... Step: 630... Loss: 1.9724... Val Loss: 1.8670\n",
      "Epoch: 6/20... Step: 640... Loss: 1.9074... Val Loss: 1.8575\n",
      "Epoch: 6/20... Step: 650... Loss: 1.9522... Val Loss: 1.8512\n",
      "Epoch: 6/20... Step: 660... Loss: 1.9257... Val Loss: 1.8450\n",
      "Epoch: 6/20... Step: 670... Loss: 1.9617... Val Loss: 1.8343\n",
      "Epoch: 6/20... Step: 680... Loss: 1.8714... Val Loss: 1.8286\n",
      "Epoch: 6/20... Step: 690... Loss: 1.9060... Val Loss: 1.8240\n",
      "Epoch: 6/20... Step: 700... Loss: 1.8909... Val Loss: 1.8162\n",
      "Epoch: 6/20... Step: 710... Loss: 1.8674... Val Loss: 1.8059\n",
      "Epoch: 6/20... Step: 720... Loss: 1.8752... Val Loss: 1.7999\n",
      "Epoch: 6/20... Step: 730... Loss: 1.8730... Val Loss: 1.7911\n",
      "Epoch: 7/20... Step: 740... Loss: 1.8773... Val Loss: 1.7858\n",
      "Epoch: 7/20... Step: 750... Loss: 1.8543... Val Loss: 1.7791\n",
      "Epoch: 7/20... Step: 760... Loss: 1.8338... Val Loss: 1.7761\n",
      "Epoch: 7/20... Step: 770... Loss: 1.8346... Val Loss: 1.7680\n",
      "Epoch: 7/20... Step: 780... Loss: 1.8432... Val Loss: 1.7597\n",
      "Epoch: 7/20... Step: 790... Loss: 1.8029... Val Loss: 1.7539\n",
      "Epoch: 7/20... Step: 800... Loss: 1.8658... Val Loss: 1.7480\n",
      "Epoch: 7/20... Step: 810... Loss: 1.8257... Val Loss: 1.7458\n",
      "Epoch: 7/20... Step: 820... Loss: 1.8252... Val Loss: 1.7417\n",
      "Epoch: 7/20... Step: 830... Loss: 1.7920... Val Loss: 1.7322\n",
      "Epoch: 7/20... Step: 840... Loss: 1.7986... Val Loss: 1.7240\n",
      "Epoch: 7/20... Step: 850... Loss: 1.7763... Val Loss: 1.7186\n",
      "Epoch: 8/20... Step: 860... Loss: 1.8074... Val Loss: 1.7130\n",
      "Epoch: 8/20... Step: 870... Loss: 1.7933... Val Loss: 1.7098\n",
      "Epoch: 8/20... Step: 880... Loss: 1.7974... Val Loss: 1.7067\n",
      "Epoch: 8/20... Step: 890... Loss: 1.7905... Val Loss: 1.6981\n",
      "Epoch: 8/20... Step: 900... Loss: 1.7957... Val Loss: 1.6905\n",
      "Epoch: 8/20... Step: 910... Loss: 1.7475... Val Loss: 1.6860\n",
      "Epoch: 8/20... Step: 920... Loss: 1.8164... Val Loss: 1.6825\n",
      "Epoch: 8/20... Step: 930... Loss: 1.7903... Val Loss: 1.6782\n",
      "Epoch: 8/20... Step: 940... Loss: 1.7240... Val Loss: 1.6716\n",
      "Epoch: 8/20... Step: 950... Loss: 1.7312... Val Loss: 1.6676\n",
      "Epoch: 8/20... Step: 960... Loss: 1.7321... Val Loss: 1.6626\n",
      "Epoch: 8/20... Step: 970... Loss: 1.7128... Val Loss: 1.6605\n",
      "Epoch: 9/20... Step: 980... Loss: 1.7231... Val Loss: 1.6564\n",
      "Epoch: 9/20... Step: 990... Loss: 1.7372... Val Loss: 1.6485\n",
      "Epoch: 9/20... Step: 1000... Loss: 1.7380... Val Loss: 1.6437\n",
      "Epoch: 9/20... Step: 1010... Loss: 1.6970... Val Loss: 1.6403\n",
      "Epoch: 9/20... Step: 1020... Loss: 1.7171... Val Loss: 1.6371\n",
      "Epoch: 9/20... Step: 1030... Loss: 1.6914... Val Loss: 1.6329\n",
      "Epoch: 9/20... Step: 1040... Loss: 1.7441... Val Loss: 1.6297\n",
      "Epoch: 9/20... Step: 1050... Loss: 1.6833... Val Loss: 1.6240\n",
      "Epoch: 9/20... Step: 1060... Loss: 1.6918... Val Loss: 1.6192\n",
      "Epoch: 9/20... Step: 1070... Loss: 1.7247... Val Loss: 1.6176\n",
      "Epoch: 9/20... Step: 1080... Loss: 1.7270... Val Loss: 1.6117\n",
      "Epoch: 9/20... Step: 1090... Loss: 1.6695... Val Loss: 1.6117\n",
      "Epoch: 10/20... Step: 1100... Loss: 1.6694... Val Loss: 1.6031\n",
      "Epoch: 10/20... Step: 1110... Loss: 1.6927... Val Loss: 1.6007\n",
      "Epoch: 10/20... Step: 1120... Loss: 1.6790... Val Loss: 1.5970\n",
      "Epoch: 10/20... Step: 1130... Loss: 1.6603... Val Loss: 1.5917\n",
      "Epoch: 10/20... Step: 1140... Loss: 1.6790... Val Loss: 1.5923\n",
      "Epoch: 10/20... Step: 1150... Loss: 1.6728... Val Loss: 1.5858\n",
      "Epoch: 10/20... Step: 1160... Loss: 1.6852... Val Loss: 1.5836\n",
      "Epoch: 10/20... Step: 1170... Loss: 1.6788... Val Loss: 1.5798\n",
      "Epoch: 10/20... Step: 1180... Loss: 1.6728... Val Loss: 1.5749\n",
      "Epoch: 10/20... Step: 1190... Loss: 1.6456... Val Loss: 1.5731\n",
      "Epoch: 10/20... Step: 1200... Loss: 1.6359... Val Loss: 1.5699\n",
      "Epoch: 10/20... Step: 1210... Loss: 1.6563... Val Loss: 1.5657\n",
      "Epoch: 10/20... Step: 1220... Loss: 1.6556... Val Loss: 1.5613\n",
      "Epoch: 11/20... Step: 1230... Loss: 1.6614... Val Loss: 1.5591\n",
      "Epoch: 11/20... Step: 1240... Loss: 1.6510... Val Loss: 1.5573\n",
      "Epoch: 11/20... Step: 1250... Loss: 1.5826... Val Loss: 1.5525\n",
      "Epoch: 11/20... Step: 1260... Loss: 1.6367... Val Loss: 1.5506\n",
      "Epoch: 11/20... Step: 1270... Loss: 1.6386... Val Loss: 1.5507\n",
      "Epoch: 11/20... Step: 1280... Loss: 1.6749... Val Loss: 1.5464\n",
      "Epoch: 11/20... Step: 1290... Loss: 1.5746... Val Loss: 1.5407\n",
      "Epoch: 11/20... Step: 1300... Loss: 1.6029... Val Loss: 1.5377\n",
      "Epoch: 11/20... Step: 1310... Loss: 1.6037... Val Loss: 1.5360\n",
      "Epoch: 11/20... Step: 1320... Loss: 1.5779... Val Loss: 1.5343\n",
      "Epoch: 11/20... Step: 1330... Loss: 1.6121... Val Loss: 1.5334\n",
      "Epoch: 11/20... Step: 1340... Loss: 1.6181... Val Loss: 1.5289\n"
     ]
    },
    {
     "name": "stdout",
     "output_type": "stream",
     "text": [
      "Epoch: 12/20... Step: 1350... Loss: 1.6092... Val Loss: 1.5255\n",
      "Epoch: 12/20... Step: 1360... Loss: 1.5945... Val Loss: 1.5233\n",
      "Epoch: 12/20... Step: 1370... Loss: 1.5708... Val Loss: 1.5220\n",
      "Epoch: 12/20... Step: 1380... Loss: 1.5705... Val Loss: 1.5190\n",
      "Epoch: 12/20... Step: 1390... Loss: 1.5878... Val Loss: 1.5137\n",
      "Epoch: 12/20... Step: 1400... Loss: 1.5511... Val Loss: 1.5153\n",
      "Epoch: 12/20... Step: 1410... Loss: 1.6126... Val Loss: 1.5106\n",
      "Epoch: 12/20... Step: 1420... Loss: 1.5598... Val Loss: 1.5066\n",
      "Epoch: 12/20... Step: 1430... Loss: 1.5798... Val Loss: 1.5037\n",
      "Epoch: 12/20... Step: 1440... Loss: 1.5429... Val Loss: 1.5026\n",
      "Epoch: 12/20... Step: 1450... Loss: 1.5546... Val Loss: 1.5014\n",
      "Epoch: 12/20... Step: 1460... Loss: 1.5448... Val Loss: 1.4983\n",
      "Epoch: 13/20... Step: 1470... Loss: 1.5814... Val Loss: 1.4974\n",
      "Epoch: 13/20... Step: 1480... Loss: 1.5712... Val Loss: 1.4964\n",
      "Epoch: 13/20... Step: 1490... Loss: 1.5804... Val Loss: 1.4938\n",
      "Epoch: 13/20... Step: 1500... Loss: 1.5460... Val Loss: 1.4905\n",
      "Epoch: 13/20... Step: 1510... Loss: 1.5772... Val Loss: 1.4894\n",
      "Epoch: 13/20... Step: 1520... Loss: 1.5304... Val Loss: 1.4847\n",
      "Epoch: 13/20... Step: 1530... Loss: 1.5824... Val Loss: 1.4817\n",
      "Epoch: 13/20... Step: 1540... Loss: 1.5745... Val Loss: 1.4809\n",
      "Epoch: 13/20... Step: 1550... Loss: 1.5063... Val Loss: 1.4764\n",
      "Epoch: 13/20... Step: 1560... Loss: 1.5288... Val Loss: 1.4775\n",
      "Epoch: 13/20... Step: 1570... Loss: 1.5318... Val Loss: 1.4779\n",
      "Epoch: 13/20... Step: 1580... Loss: 1.5114... Val Loss: 1.4725\n",
      "Epoch: 14/20... Step: 1590... Loss: 1.5296... Val Loss: 1.4694\n",
      "Epoch: 14/20... Step: 1600... Loss: 1.5359... Val Loss: 1.4692\n",
      "Epoch: 14/20... Step: 1610... Loss: 1.5470... Val Loss: 1.4677\n",
      "Epoch: 14/20... Step: 1620... Loss: 1.4980... Val Loss: 1.4628\n",
      "Epoch: 14/20... Step: 1630... Loss: 1.5348... Val Loss: 1.4636\n",
      "Epoch: 14/20... Step: 1640... Loss: 1.5089... Val Loss: 1.4626\n",
      "Epoch: 14/20... Step: 1650... Loss: 1.5487... Val Loss: 1.4610\n",
      "Epoch: 14/20... Step: 1660... Loss: 1.4950... Val Loss: 1.4582\n",
      "Epoch: 14/20... Step: 1670... Loss: 1.4913... Val Loss: 1.4545\n",
      "Epoch: 14/20... Step: 1680... Loss: 1.5314... Val Loss: 1.4549\n",
      "Epoch: 14/20... Step: 1690... Loss: 1.5330... Val Loss: 1.4526\n",
      "Epoch: 14/20... Step: 1700... Loss: 1.4924... Val Loss: 1.4495\n",
      "Epoch: 15/20... Step: 1710... Loss: 1.4946... Val Loss: 1.4487\n",
      "Epoch: 15/20... Step: 1720... Loss: 1.5111... Val Loss: 1.4463\n",
      "Epoch: 15/20... Step: 1730... Loss: 1.5062... Val Loss: 1.4453\n",
      "Epoch: 15/20... Step: 1740... Loss: 1.4889... Val Loss: 1.4420\n",
      "Epoch: 15/20... Step: 1750... Loss: 1.5143... Val Loss: 1.4438\n",
      "Epoch: 15/20... Step: 1760... Loss: 1.5026... Val Loss: 1.4407\n",
      "Epoch: 15/20... Step: 1770... Loss: 1.5271... Val Loss: 1.4380\n",
      "Epoch: 15/20... Step: 1780... Loss: 1.5213... Val Loss: 1.4368\n",
      "Epoch: 15/20... Step: 1790... Loss: 1.5084... Val Loss: 1.4345\n",
      "Epoch: 15/20... Step: 1800... Loss: 1.4962... Val Loss: 1.4321\n",
      "Epoch: 15/20... Step: 1810... Loss: 1.4865... Val Loss: 1.4332\n",
      "Epoch: 15/20... Step: 1820... Loss: 1.5035... Val Loss: 1.4313\n",
      "Epoch: 15/20... Step: 1830... Loss: 1.5052... Val Loss: 1.4286\n",
      "Epoch: 16/20... Step: 1840... Loss: 1.5033... Val Loss: 1.4285\n",
      "Epoch: 16/20... Step: 1850... Loss: 1.4923... Val Loss: 1.4249\n",
      "Epoch: 16/20... Step: 1860... Loss: 1.4344... Val Loss: 1.4276\n",
      "Epoch: 16/20... Step: 1870... Loss: 1.4939... Val Loss: 1.4238\n",
      "Epoch: 16/20... Step: 1880... Loss: 1.4665... Val Loss: 1.4223\n",
      "Epoch: 16/20... Step: 1890... Loss: 1.5207... Val Loss: 1.4215\n",
      "Epoch: 16/20... Step: 1900... Loss: 1.4369... Val Loss: 1.4198\n",
      "Epoch: 16/20... Step: 1910... Loss: 1.4613... Val Loss: 1.4168\n",
      "Epoch: 16/20... Step: 1920... Loss: 1.4603... Val Loss: 1.4164\n",
      "Epoch: 16/20... Step: 1930... Loss: 1.4410... Val Loss: 1.4143\n",
      "Epoch: 16/20... Step: 1940... Loss: 1.4617... Val Loss: 1.4173\n",
      "Epoch: 16/20... Step: 1950... Loss: 1.4750... Val Loss: 1.4098\n",
      "Epoch: 17/20... Step: 1960... Loss: 1.4783... Val Loss: 1.4089\n",
      "Epoch: 17/20... Step: 1970... Loss: 1.4483... Val Loss: 1.4072\n",
      "Epoch: 17/20... Step: 1980... Loss: 1.4340... Val Loss: 1.4074\n",
      "Epoch: 17/20... Step: 1990... Loss: 1.4302... Val Loss: 1.4058\n",
      "Epoch: 17/20... Step: 2000... Loss: 1.4525... Val Loss: 1.4063\n",
      "Epoch: 17/20... Step: 2010... Loss: 1.4161... Val Loss: 1.4067\n",
      "Epoch: 17/20... Step: 2020... Loss: 1.4898... Val Loss: 1.4035\n",
      "Epoch: 17/20... Step: 2030... Loss: 1.4266... Val Loss: 1.4026\n",
      "Epoch: 17/20... Step: 2040... Loss: 1.4515... Val Loss: 1.4012\n",
      "Epoch: 17/20... Step: 2050... Loss: 1.4085... Val Loss: 1.3981\n",
      "Epoch: 17/20... Step: 2060... Loss: 1.4379... Val Loss: 1.3993\n",
      "Epoch: 17/20... Step: 2070... Loss: 1.4253... Val Loss: 1.3984\n",
      "Epoch: 18/20... Step: 2080... Loss: 1.4494... Val Loss: 1.3953\n",
      "Epoch: 18/20... Step: 2090... Loss: 1.4489... Val Loss: 1.3937\n",
      "Epoch: 18/20... Step: 2100... Loss: 1.4519... Val Loss: 1.3939\n",
      "Epoch: 18/20... Step: 2110... Loss: 1.4267... Val Loss: 1.3936\n",
      "Epoch: 18/20... Step: 2120... Loss: 1.4470... Val Loss: 1.3908\n",
      "Epoch: 18/20... Step: 2130... Loss: 1.4085... Val Loss: 1.3904\n",
      "Epoch: 18/20... Step: 2140... Loss: 1.4587... Val Loss: 1.3913\n",
      "Epoch: 18/20... Step: 2150... Loss: 1.4509... Val Loss: 1.3898\n",
      "Epoch: 18/20... Step: 2160... Loss: 1.3998... Val Loss: 1.3878\n",
      "Epoch: 18/20... Step: 2170... Loss: 1.4184... Val Loss: 1.3857\n",
      "Epoch: 18/20... Step: 2180... Loss: 1.4140... Val Loss: 1.3857\n",
      "Epoch: 18/20... Step: 2190... Loss: 1.4037... Val Loss: 1.3854\n",
      "Epoch: 19/20... Step: 2200... Loss: 1.4098... Val Loss: 1.3840\n",
      "Epoch: 19/20... Step: 2210... Loss: 1.4277... Val Loss: 1.3833\n",
      "Epoch: 19/20... Step: 2220... Loss: 1.4423... Val Loss: 1.3807\n",
      "Epoch: 19/20... Step: 2230... Loss: 1.3997... Val Loss: 1.3790\n",
      "Epoch: 19/20... Step: 2240... Loss: 1.4203... Val Loss: 1.3796\n",
      "Epoch: 19/20... Step: 2250... Loss: 1.3994... Val Loss: 1.3800\n",
      "Epoch: 19/20... Step: 2260... Loss: 1.4380... Val Loss: 1.3786\n",
      "Epoch: 19/20... Step: 2270... Loss: 1.3866... Val Loss: 1.3776\n",
      "Epoch: 19/20... Step: 2280... Loss: 1.3872... Val Loss: 1.3746\n",
      "Epoch: 19/20... Step: 2290... Loss: 1.4224... Val Loss: 1.3731\n",
      "Epoch: 19/20... Step: 2300... Loss: 1.4295... Val Loss: 1.3739\n",
      "Epoch: 19/20... Step: 2310... Loss: 1.3879... Val Loss: 1.3731\n",
      "Epoch: 20/20... Step: 2320... Loss: 1.3867... Val Loss: 1.3710\n",
      "Epoch: 20/20... Step: 2330... Loss: 1.4040... Val Loss: 1.3701\n",
      "Epoch: 20/20... Step: 2340... Loss: 1.4039... Val Loss: 1.3693\n",
      "Epoch: 20/20... Step: 2350... Loss: 1.3891... Val Loss: 1.3684\n",
      "Epoch: 20/20... Step: 2360... Loss: 1.4146... Val Loss: 1.3671\n",
      "Epoch: 20/20... Step: 2370... Loss: 1.4085... Val Loss: 1.3674\n",
      "Epoch: 20/20... Step: 2380... Loss: 1.4313... Val Loss: 1.3663\n",
      "Epoch: 20/20... Step: 2390... Loss: 1.4148... Val Loss: 1.3675\n",
      "Epoch: 20/20... Step: 2400... Loss: 1.4100... Val Loss: 1.3641\n",
      "Epoch: 20/20... Step: 2410... Loss: 1.3925... Val Loss: 1.3645\n",
      "Epoch: 20/20... Step: 2420... Loss: 1.3733... Val Loss: 1.3622\n",
      "Epoch: 20/20... Step: 2430... Loss: 1.4066... Val Loss: 1.3627\n",
      "Epoch: 20/20... Step: 2440... Loss: 1.4271... Val Loss: 1.3630\n"
     ]
    }
   ],
   "source": [
    "batch_size = 128\n",
    "seq_length = 100\n",
    "n_epochs = 20\n",
    "\n",
    "# train the model\n",
    "train(net, encoded, epochs=n_epochs, batch_size=batch_size, seq_length=seq_length, lr=0.001, print_every=10)"
   ]
  },
  {
   "cell_type": "markdown",
   "metadata": {},
   "source": [
    "## Getting the best model\n",
    "\n",
    "To set your hyperparameters to get the best performance, you'll want to watch the training and validation losses. If your training loss is much lower than the validation loss, you're overfitting. Increase regularization (more dropout) or use a smaller network. If the training and validation losses are close, you're underfitting so you can increase the size of the network."
   ]
  },
  {
   "cell_type": "markdown",
   "metadata": {},
   "source": [
    "## Hyperparameters\n",
    "\n",
    "Here are the hyperparameters for the network.\n",
    "\n",
    "In defining the model:\n",
    "* `n_hidden` - The number of units in the hidden layers.\n",
    "* `n_layers` - Number of hidden LSTM layers to use.\n",
    "\n",
    "We assume that dropout probability and learning rate will be kept at the default, in this example.\n",
    "\n",
    "And in training:\n",
    "* `batch_size` - Number of sequences running through the network in one pass.\n",
    "* `seq_length` - Number of characters in the sequence the network is trained on. Larger is better typically, the network will learn more long range dependencies. But it takes longer to train. 100 is typically a good number here.\n",
    "* `lr` - Learning rate for training\n",
    "\n",
    "Here's some good advice from Andrej Karpathy on training the network. I'm going to copy it in here for your benefit, but also link to [where it originally came from](https://github.com/karpathy/char-rnn#tips-and-tricks).\n",
    "\n",
    "> ## Tips and Tricks\n",
    "\n",
    ">### Monitoring Validation Loss vs. Training Loss\n",
    ">If you're somewhat new to Machine Learning or Neural Networks it can take a bit of expertise to get good models. The most important quantity to keep track of is the difference between your training loss (printed during training) and the validation loss (printed once in a while when the RNN is run on the validation data (by default every 1000 iterations)). In particular:\n",
    "\n",
    "> - If your training loss is much lower than validation loss then this means the network might be **overfitting**. Solutions to this are to decrease your network size, or to increase dropout. For example you could try dropout of 0.5 and so on.\n",
    "> - If your training/validation loss are about equal then your model is **underfitting**. Increase the size of your model (either number of layers or the raw number of neurons per layer)\n",
    "\n",
    "> ### Approximate number of parameters\n",
    "\n",
    "> The two most important parameters that control the model are `n_hidden` and `n_layers`. I would advise that you always use `n_layers` of either 2/3. The `n_hidden` can be adjusted based on how much data you have. The two important quantities to keep track of here are:\n",
    "\n",
    "> - The number of parameters in your model. This is printed when you start training.\n",
    "> - The size of your dataset. 1MB file is approximately 1 million characters.\n",
    "\n",
    ">These two should be about the same order of magnitude. It's a little tricky to tell. Here are some examples:\n",
    "\n",
    "> - I have a 100MB dataset and I'm using the default parameter settings (which currently print 150K parameters). My data size is significantly larger (100 mil >> 0.15 mil), so I expect to heavily underfit. I am thinking I can comfortably afford to make `n_hidden` larger.\n",
    "> - I have a 10MB dataset and running a 10 million parameter model. I'm slightly nervous and I'm carefully monitoring my validation loss. If it's larger than my training loss then I may want to try to increase dropout a bit and see if that helps the validation loss.\n",
    "\n",
    "> ### Best models strategy\n",
    "\n",
    ">The winning strategy to obtaining very good models (if you have the compute time) is to always err on making the network larger (as large as you're willing to wait for it to compute) and then try different dropout values (between 0,1). Whatever model has the best validation performance (the loss, written in the checkpoint filename, low is good) is the one you should use in the end.\n",
    "\n",
    ">It is very common in deep learning to run many different models with many different hyperparameter settings, and in the end take whatever checkpoint gave the best validation performance.\n",
    "\n",
    ">By the way, the size of your training and validation splits are also parameters. Make sure you have a decent amount of data in your validation set or otherwise the validation performance will be noisy and not very informative."
   ]
  },
  {
   "cell_type": "markdown",
   "metadata": {},
   "source": [
    "## Checkpoint\n",
    "\n",
    "After training, we'll save the model so we can load it again later if we need too. Here I'm saving the parameters needed to create the same architecture, the hidden layer hyperparameters and the text characters."
   ]
  },
  {
   "cell_type": "code",
   "execution_count": 17,
   "metadata": {},
   "outputs": [],
   "source": [
    "# change the name, for saving multiple files\n",
    "model_name = 'rnn_x_epoch.net'\n",
    "\n",
    "checkpoint = {'n_hidden': net.n_hidden,\n",
    "              'n_layers': net.n_layers,\n",
    "              'state_dict': net.state_dict(),\n",
    "              'tokens': net.chars}\n",
    "\n",
    "with open(model_name, 'wb') as f:\n",
    "    torch.save(checkpoint, f)"
   ]
  },
  {
   "cell_type": "markdown",
   "metadata": {},
   "source": [
    "---\n",
    "## Making Predictions\n",
    "\n",
    "Now that the model is trained, we'll want to sample from it and make predictions about next characters! To sample, we pass in a character and have the network predict the next character. Then we take that character, pass it back in, and get another predicted character. Just keep doing this and you'll generate a bunch of text!\n",
    "\n",
    "### A note on the `predict`  function\n",
    "\n",
    "The output of our RNN is from a fully-connected layer and it outputs a **distribution of next-character scores**.\n",
    "\n",
    "> To actually get the next character, we apply a softmax function, which gives us a *probability* distribution that we can then sample to predict the next character.\n",
    "\n",
    "### Top K sampling\n",
    "\n",
    "Our predictions come from a categorical probability distribution over all the possible characters. We can make the sample text and make it more reasonable to handle (with less variables) by only considering some $K$ most probable characters. This will prevent the network from giving us completely absurd characters while allowing it to introduce some noise and randomness into the sampled text. Read more about [topk, here](https://pytorch.org/docs/stable/torch.html#torch.topk).\n"
   ]
  },
  {
   "cell_type": "code",
   "execution_count": 18,
   "metadata": {},
   "outputs": [],
   "source": [
    "def predict(net, char, h=None, top_k=None):\n",
    "        ''' Given a character, predict the next character.\n",
    "            Returns the predicted character and the hidden state.\n",
    "        '''\n",
    "        \n",
    "        # tensor inputs\n",
    "        x = np.array([[net.char2int[char]]])\n",
    "        x = one_hot_encode(x, len(net.chars))\n",
    "        inputs = torch.from_numpy(x)\n",
    "        \n",
    "        if(train_on_gpu):\n",
    "            inputs = inputs.cuda()\n",
    "        \n",
    "        # detach hidden state from history\n",
    "        h = tuple([each.data for each in h])\n",
    "        # get the output of the model\n",
    "        out, h = net(inputs, h)\n",
    "\n",
    "        # get the character probabilities\n",
    "        p = F.softmax(out, dim=1).data\n",
    "        if(train_on_gpu):\n",
    "            p = p.cpu() # move to cpu\n",
    "        \n",
    "        # get top characters\n",
    "        if top_k is None:\n",
    "            top_ch = np.arange(len(net.chars))\n",
    "        else:\n",
    "            p, top_ch = p.topk(top_k)\n",
    "            top_ch = top_ch.numpy().squeeze()\n",
    "        \n",
    "        # select the likely next character with some element of randomness\n",
    "        p = p.numpy().squeeze()\n",
    "        char = np.random.choice(top_ch, p=p/p.sum())\n",
    "        \n",
    "        # return the encoded value of the predicted char and the hidden state\n",
    "        return net.int2char[char], h"
   ]
  },
  {
   "cell_type": "markdown",
   "metadata": {},
   "source": [
    "### Priming and generating text \n",
    "\n",
    "Typically you'll want to prime the network so you can build up a hidden state. Otherwise the network will start out generating characters at random. In general the first bunch of characters will be a little rough since it hasn't built up a long history of characters to predict from."
   ]
  },
  {
   "cell_type": "code",
   "execution_count": 19,
   "metadata": {},
   "outputs": [],
   "source": [
    "def sample(net, size, prime='The', top_k=None):\n",
    "        \n",
    "    if(train_on_gpu):\n",
    "        net.cuda()\n",
    "    else:\n",
    "        net.cpu()\n",
    "    \n",
    "    net.eval() # eval mode\n",
    "    \n",
    "    # First off, run through the prime characters\n",
    "    chars = [ch for ch in prime]\n",
    "    h = net.init_hidden(1)\n",
    "    for ch in prime:\n",
    "        char, h = predict(net, ch, h, top_k=top_k)\n",
    "\n",
    "    chars.append(char)\n",
    "    \n",
    "    # Now pass in the previous character and get a new one\n",
    "    for ii in range(size):\n",
    "        char, h = predict(net, chars[-1], h, top_k=top_k)\n",
    "        chars.append(char)\n",
    "\n",
    "    return ''.join(chars)"
   ]
  },
  {
   "cell_type": "code",
   "execution_count": 26,
   "metadata": {},
   "outputs": [
    {
     "name": "stdout",
     "output_type": "stream",
     "text": [
      "Ужас какой-то привезенный и подошел к ним и стал собой и не мог не могло больше сказать свое время и продолжал себя все свое волосы. Она понял все эти дело и потому, что она не понимала ее. Он понимал в свете и приезде, который она поняла это, что он надо был сказать, что он несколько сторон после последней совершенно не могло не понимать ее.\n",
      "   -- Нет, нет, я не могу понять это слова, -- продолжал он, прислушав ее с ней. -- Я не принял вас и не могу подняться с ним все эти слова. Нет, я не могу приехать.\n",
      "   -- Я не могу понять, что я не понимаю, что я никогда не могу понимать своего совета. Я не могу простилась своей мень, -- сказала она, показав ее в последней время и простолавший столов и после приехал и с крестой и приехал в свой стороне. -- Ну, так же мне не могу быть все старается, -- сказала она, -- я, не понимаю, что он приехал не просить его и привычка и после нее служит в своем враме.\n",
      "   -- Не может быть, -- сказал он, стараясь подать к нему и принялся в своем положении. -- Нет, не мог \n"
     ]
    }
   ],
   "source": [
    "print(sample(net, 1000, prime='Ужас какой', top_k=2))"
   ]
  },
  {
   "cell_type": "markdown",
   "metadata": {},
   "source": [
    "## Loading a checkpoint"
   ]
  },
  {
   "cell_type": "code",
   "execution_count": 27,
   "metadata": {},
   "outputs": [],
   "source": [
    "# Here we have loaded in a model that trained over 20 epochs `rnn_20_epoch.net`\n",
    "with open('rnn_x_epoch.net', 'rb') as f:\n",
    "    checkpoint = torch.load(f)\n",
    "    \n",
    "loaded = CharRNN(checkpoint['tokens'], n_hidden=checkpoint['n_hidden'], n_layers=checkpoint['n_layers'])\n",
    "loaded.load_state_dict(checkpoint['state_dict'])"
   ]
  },
  {
   "cell_type": "code",
   "execution_count": 30,
   "metadata": {},
   "outputs": [
    {
     "name": "stdout",
     "output_type": "stream",
     "text": [
      "И Анна сказала, что она понимает, что она понимает его. Она не могла быть совершенно на свое время и подошла, как будто, приставилась о своей деле, не может быть в своей стороне.\n",
      "   -- Я не могу просто сердиться. Я не могу понять, что я не могу не может быть, нет, не понимаю, -- подумала она, подошел к ней. -- Я не могу приехать в ней в получении своего приезда, -- подумала Анна.\n",
      "   -- Нет,, -- сказал он с ней и принять, который он подумал о ней в приех в свой свете, как будто отвечала Анна, -- не понимаю, -- продолжала Анна.\n",
      "   -- Ну, чем же мы не помещики? -- сказала она, -- то есть вы не могла выбрать себе, -- продоржал он себя на нее. -- Нет, не приеду, -- сказал он, сколько обедав свое приезда и подняла свою руку в свете, -- он не мог понять, чтобы понять в себе не привычное выражение своего предстоящего в своем страшном волосе с ним. Он не мог продолжаться, что вы сказала его.\n",
      "   -- Я не приедет, -- сказал он, сказал Сергей Иванович.\n",
      "   Она видела, что он понял теперь о том, что она понята, чтобы несчастлива, и он не могла быть состояния, но в это время надо выразиться совершенно привычное стороны. Он не мог стараться соберниться, чтобы не приехать, и не могла быть не могло быть, не могло быть, что он не понимает на нее и привычно, когда она подошела к себе. На стороне выражение отношения, как она не могла начать встречаться и потому, что она поняла, что в своем време и не приезжал в своей дело, и все подробности, не мог проститься своим совершенно подошел к ней. Она надеяла в привычке и стало привезти своего приехать и старался совершенно последовать его.\n",
      "   -- Я не могу не могут, -- сказал он, подходивая его. Она поднимая его под своим собой и с ним, когда она понята, что встречалась в себе состоящих в комнату, которая она не понимала его. Он подошел к себе и с ней, как будто не мог не может быть, не мог понять, что он не мужет в своей день, и он надо было состоянить с ней свои приехала и приготовлялся в положении, и от него не могла быть, как он просил его с ней и не прие\n"
     ]
    }
   ],
   "source": [
    "# Sample using a loaded model\n",
    "print(sample(loaded, 2000, top_k=2, prime=\"И Анна сказала\"))"
   ]
  },
  {
   "cell_type": "markdown",
   "metadata": {},
   "source": [
    "___________"
   ]
  }
 ],
 "metadata": {
  "kernelspec": {
   "display_name": "Python 3",
   "language": "python",
   "name": "python3"
  },
  "language_info": {
   "codemirror_mode": {
    "name": "ipython",
    "version": 3
   },
   "file_extension": ".py",
   "mimetype": "text/x-python",
   "name": "python",
   "nbconvert_exporter": "python",
   "pygments_lexer": "ipython3",
   "version": "3.7.0"
  }
 },
 "nbformat": 4,
 "nbformat_minor": 2
}
